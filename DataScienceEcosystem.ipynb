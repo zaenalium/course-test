{
 "cells": [
  {
   "cell_type": "markdown",
   "id": "f02b6040-15f6-42fe-be17-efaf7be0b2a0",
   "metadata": {},
   "source": [
    "# Data Science Tools and Ecosystem"
   ]
  },
  {
   "cell_type": "markdown",
   "id": "1b8cc20d-710f-4fe3-a849-6a6101cb9edc",
   "metadata": {},
   "source": [
    "In this notebook, Data Science Tools and Ecosystem are summarized"
   ]
  },
  {
   "cell_type": "markdown",
   "id": "bbcbe311-6115-4278-9fca-85769248eadb",
   "metadata": {},
   "source": [
    "Some of the popular languages that Data Scientists use are:\n",
    "* Python\n",
    "* R\n",
    "* SQL"
   ]
  },
  {
   "cell_type": "markdown",
   "id": "1ae0a798-fa73-412d-8d46-2361afe89eaa",
   "metadata": {},
   "source": [
    "Objectives: **To get more understanding of data science tools**\n",
    "* Julia\n",
    "* Ruby\n",
    "* Scala"
   ]
  },
  {
   "cell_type": "markdown",
   "id": "eb26905b-2762-4755-824a-d90a6022f1d6",
   "metadata": {},
   "source": [
    "Some of the commonly used libraries used by Data Scientists include:\n",
    "* pandas\n",
    "* scikit-learn\n",
    "* matplotlib"
   ]
  },
  {
   "cell_type": "markdown",
   "id": "3fbd1703-3732-4d3b-810e-13521c8864ce",
   "metadata": {},
   "source": [
    "|Data Science Tools|\n",
    "|--|\n",
    "|apache airflow|\n",
    "|apache superset|\n",
    "|spyder|"
   ]
  },
  {
   "cell_type": "markdown",
   "id": "025288be-6be9-44a6-97a6-cf58ba342065",
   "metadata": {},
   "source": [
    "### Below are a few examples of evaluating arithmetic expressions in Python"
   ]
  },
  {
   "cell_type": "code",
   "execution_count": 9,
   "id": "0e637cd8-b3b3-4dc6-a6a9-d0775b466354",
   "metadata": {},
   "outputs": [
    {
     "data": {
      "text/plain": [
       "17"
      ]
     },
     "execution_count": 9,
     "metadata": {},
     "output_type": "execute_result"
    }
   ],
   "source": [
    "(3*4)+5"
   ]
  },
  {
   "cell_type": "code",
   "execution_count": 10,
   "id": "0780b909-5ee6-4c15-94d3-7d0d7f26275f",
   "metadata": {},
   "outputs": [
    {
     "data": {
      "text/plain": [
       "3.3333333333333335"
      ]
     },
     "execution_count": 10,
     "metadata": {},
     "output_type": "execute_result"
    }
   ],
   "source": [
    "200/60"
   ]
  },
  {
   "cell_type": "markdown",
   "id": "fc5abee6-b6da-4636-961b-70539f45a8c5",
   "metadata": {},
   "source": [
    "This will convert 200 minutes to hours by diving by 60"
   ]
  },
  {
   "cell_type": "markdown",
   "id": "3f0b4367-35f3-4329-aade-1aeb53792215",
   "metadata": {},
   "source": [
    "## Author\n",
    "Ahmad Zaenal"
   ]
  },
  {
   "cell_type": "code",
   "execution_count": null,
   "id": "47692236-6a09-4cf9-a896-d0c01e6dc2e3",
   "metadata": {},
   "outputs": [],
   "source": []
  }
 ],
 "metadata": {
  "kernelspec": {
   "display_name": "Python 3 (ipykernel)",
   "language": "python",
   "name": "python3"
  },
  "language_info": {
   "codemirror_mode": {
    "name": "ipython",
    "version": 3
   },
   "file_extension": ".py",
   "mimetype": "text/x-python",
   "name": "python",
   "nbconvert_exporter": "python",
   "pygments_lexer": "ipython3",
   "version": "3.10.10"
  }
 },
 "nbformat": 4,
 "nbformat_minor": 5
}
